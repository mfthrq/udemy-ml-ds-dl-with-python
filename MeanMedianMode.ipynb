{
 "cells": [
  {
   "cell_type": "code",
   "execution_count": 1,
   "metadata": {},
   "outputs": [
    {
     "data": {
      "text/plain": [
       "26998.515819699318"
      ]
     },
     "execution_count": 1,
     "metadata": {},
     "output_type": "execute_result"
    }
   ],
   "source": [
    "import numpy as np\n",
    "\n",
    "x = np.random.normal(27000, 15000, 10000)\n",
    "np.mean(x)"
   ]
  },
  {
   "cell_type": "code",
   "execution_count": 2,
   "metadata": {},
   "outputs": [
    {
     "data": {
      "image/png": "[encoded data removed]",
      "text/plain": [
       "<Figure size 432x288 with 1 Axes>"
      ]
     },
     "metadata": {
      "needs_background": "light"
     },
     "output_type": "display_data"
    }
   ],
   "source": [
    "%matplotlib inline\n",
    "import matplotlib.pyplot as plt\n",
    "plt.hist(x, 50)\n",
    "plt.show()"
   ]
  },
  {
   "cell_type": "code",
   "execution_count": 3,
   "metadata": {},
   "outputs": [
    {
     "data": {
      "text/plain": [
       "27120.44320743853"
      ]
     },
     "execution_count": 3,
     "metadata": {},
     "output_type": "execute_result"
    }
   ],
   "source": [
    "np.median(x)"
   ]
  },
  {
   "cell_type": "code",
   "execution_count": 4,
   "metadata": {},
   "outputs": [],
   "source": [
    "x = np.append(x, [1000000000])"
   ]
  },
  {
   "cell_type": "code",
   "execution_count": 5,
   "metadata": {},
   "outputs": [
    {
     "data": {
      "text/plain": [
       "27121.387618936576"
      ]
     },
     "execution_count": 5,
     "metadata": {},
     "output_type": "execute_result"
    }
   ],
   "source": [
    "np.median(x)"
   ]
  },
  {
   "cell_type": "code",
   "execution_count": 6,
   "metadata": {},
   "outputs": [
    {
     "data": {
      "text/plain": [
       "126985.81723797554"
      ]
     },
     "execution_count": 6,
     "metadata": {},
     "output_type": "execute_result"
    }
   ],
   "source": [
    "np.mean(x)"
   ]
  },
  {
   "cell_type": "markdown",
   "metadata": {},
   "source": [
    "Mode"
   ]
  },
  {
   "cell_type": "code",
   "execution_count": 7,
   "metadata": {},
   "outputs": [
    {
     "data": {
      "text/plain": [
       "array([60, 77, 51, 38, 80, 45, 23, 67, 58, 57, 79, 78, 82, 71, 81, 19, 24,\n",
       "       67, 68, 52, 50, 89, 75, 18, 60, 65, 40, 60, 49, 45, 53, 77, 25, 30,\n",
       "       42, 36, 29, 57, 48, 19, 41, 76, 55, 60, 62, 47, 81, 53, 77, 31, 67,\n",
       "       51, 22, 27, 21, 63, 22, 33, 52, 77, 21, 62, 56, 30, 37, 51, 31, 86,\n",
       "       37, 45, 51, 61, 41, 86, 30, 62, 61, 87, 23, 68, 73, 27, 33, 60, 63,\n",
       "       87, 19, 83, 67, 83, 56, 76, 52, 55, 34, 21, 53, 87, 63, 24, 50, 53,\n",
       "       64, 54, 33, 85, 85, 51, 71, 49, 88, 87, 76, 82, 21, 83, 79, 77, 24,\n",
       "       28, 50, 51, 57, 73, 56, 41, 29, 61, 39, 63, 73, 63, 79, 39, 23, 61,\n",
       "       64, 88, 25, 31, 50, 49, 62, 85, 25, 36, 54, 74, 52, 75, 83, 49, 77,\n",
       "       53, 56, 25, 72, 41, 23, 34, 33, 34, 46, 30, 41, 41, 45, 55, 36, 86,\n",
       "       72, 79, 80, 21, 76, 85, 37, 86, 35, 78, 56, 86, 44, 20, 53, 31, 41,\n",
       "       46, 48, 62, 27, 43, 46, 88, 41, 66, 50, 47, 26, 36, 25, 49, 74, 33,\n",
       "       75, 62, 70, 79, 54, 37, 68, 23, 60, 34, 32, 74, 30, 69, 49, 31, 76,\n",
       "       84, 27, 63, 87, 20, 50, 42, 21, 32, 52, 47, 59, 34, 47, 62, 63, 84,\n",
       "       35, 62, 85, 76, 19, 63, 19, 23, 83, 26, 62, 77, 18, 31, 40, 51, 32,\n",
       "       79, 79, 45, 69, 59, 25, 64, 41, 54, 80, 80, 83, 55, 61, 46, 18, 76,\n",
       "       62, 68, 66, 58, 67, 65, 53, 73, 86, 48, 55, 62, 49, 83, 39, 60, 74,\n",
       "       79, 63, 70, 33, 40, 81, 84, 72, 37, 60, 41, 74, 62, 50, 69, 72, 20,\n",
       "       22, 29, 38, 23, 43, 64, 38, 78, 30, 77, 68, 73, 72, 86, 26, 34, 22,\n",
       "       73, 86, 64, 23, 68, 55, 64, 59, 18, 32, 56, 71, 36, 48, 31, 81, 51,\n",
       "       45, 59, 55, 28, 84, 50, 64, 71, 29, 78, 41, 61, 50, 46, 81, 88, 75,\n",
       "       23, 39, 18, 81, 72, 66, 46, 23, 37, 59, 18, 71, 78, 18, 75, 22, 24,\n",
       "       64, 36, 33, 36, 67, 29, 24, 46, 58, 22, 24, 28, 65, 33, 18, 82, 75,\n",
       "       47, 55, 87, 62, 38, 75, 75, 25, 46, 50, 77, 73, 30, 65, 36, 64, 53,\n",
       "       89, 61, 38, 52, 46, 87, 31, 66, 84, 58, 62, 61, 72, 20, 72, 23, 52,\n",
       "       34, 60, 45, 46, 38, 37, 71, 32, 48, 20, 63, 27, 79, 37, 75, 76, 27,\n",
       "       50, 23, 87, 34, 39, 43, 29, 31, 30, 78, 69, 56, 31, 26, 41, 26, 73,\n",
       "       63, 31, 75, 27, 29, 82, 65, 28, 81, 45, 44, 38, 24, 81, 42, 43, 45,\n",
       "       19, 23, 27, 80, 60, 88, 62, 85, 41, 62, 21, 58, 58, 61, 76, 45, 72,\n",
       "       81, 85, 60, 18, 87, 74, 38])"
      ]
     },
     "execution_count": 7,
     "metadata": {},
     "output_type": "execute_result"
    }
   ],
   "source": [
    "ages = np.random.randint(18, high=90, size=500)\n",
    "ages"
   ]
  },
  {
   "cell_type": "code",
   "execution_count": 1,
   "metadata": {},
   "outputs": [],
   "source": [
    "import scipy\n",
    "from scipy import stats"
   ]
  },
  {
   "cell_type": "code",
   "execution_count": null,
   "metadata": {},
   "outputs": [],
   "source": []
  }
 ],
 "metadata": {
  "kernelspec": {
   "display_name": "Python 3",
   "language": "python",
   "name": "python3"
  },
  "language_info": {
   "codemirror_mode": {
    "name": "ipython",
    "version": 3
   },
   "file_extension": ".py",
   "mimetype": "text/x-python",
   "name": "python",
   "nbconvert_exporter": "python",
   "pygments_lexer": "ipython3",
   "version": "3.10.10"
  },
  "vscode": {
   "interpreter": {
    "hash": "aa38ca2d4ac5334f8facb9127846041594939b57ea42b4afe5d7eb655aac64f1"
   }
  }
 },
 "nbformat": 4,
 "nbformat_minor": 4
}
